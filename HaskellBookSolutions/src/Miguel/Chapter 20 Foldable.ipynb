{
 "cells": [
  {
   "cell_type": "markdown",
   "metadata": {},
   "source": [
    "# Chapter 20 - Foldable\n",
    "## Library functions"
   ]
  },
  {
   "cell_type": "code",
   "execution_count": 1,
   "metadata": {
    "collapsed": false
   },
   "outputs": [
    {
     "data": {
      "text/html": [
       "<style>/* Styles used for the Hoogle display in the pager */\n",
       ".hoogle-doc {\n",
       "display: block;\n",
       "padding-bottom: 1.3em;\n",
       "padding-left: 0.4em;\n",
       "}\n",
       ".hoogle-code {\n",
       "display: block;\n",
       "font-family: monospace;\n",
       "white-space: pre;\n",
       "}\n",
       ".hoogle-text {\n",
       "display: block;\n",
       "}\n",
       ".hoogle-name {\n",
       "color: green;\n",
       "font-weight: bold;\n",
       "}\n",
       ".hoogle-head {\n",
       "font-weight: bold;\n",
       "}\n",
       ".hoogle-sub {\n",
       "display: block;\n",
       "margin-left: 0.4em;\n",
       "}\n",
       ".hoogle-package {\n",
       "font-weight: bold;\n",
       "font-style: italic;\n",
       "}\n",
       ".hoogle-module {\n",
       "font-weight: bold;\n",
       "}\n",
       ".hoogle-class {\n",
       "font-weight: bold;\n",
       "}\n",
       ".get-type {\n",
       "color: green;\n",
       "font-weight: bold;\n",
       "font-family: monospace;\n",
       "display: block;\n",
       "white-space: pre-wrap;\n",
       "}\n",
       ".show-type {\n",
       "color: green;\n",
       "font-weight: bold;\n",
       "font-family: monospace;\n",
       "margin-left: 1em;\n",
       "}\n",
       ".mono {\n",
       "font-family: monospace;\n",
       "display: block;\n",
       "}\n",
       ".err-msg {\n",
       "color: red;\n",
       "font-style: italic;\n",
       "font-family: monospace;\n",
       "white-space: pre;\n",
       "display: block;\n",
       "}\n",
       "#unshowable {\n",
       "color: red;\n",
       "font-weight: bold;\n",
       "}\n",
       ".err-msg.in.collapse {\n",
       "padding-top: 0.7em;\n",
       "}\n",
       ".highlight-code {\n",
       "white-space: pre;\n",
       "font-family: monospace;\n",
       "}\n",
       ".suggestion-warning { \n",
       "font-weight: bold;\n",
       "color: rgb(200, 130, 0);\n",
       "}\n",
       ".suggestion-error { \n",
       "font-weight: bold;\n",
       "color: red;\n",
       "}\n",
       ".suggestion-name {\n",
       "font-weight: bold;\n",
       "}\n",
       "</style><div class=\"suggestion-name\" style=\"clear:both;\">Evaluate</div><div class=\"suggestion-row\" style=\"float: left;\"><div class=\"suggestion-warning\">Found:</div><div class=\"highlight-code\" id=\"haskell\">null []</div></div><div class=\"suggestion-row\" style=\"float: left;\"><div class=\"suggestion-warning\">Why Not:</div><div class=\"highlight-code\" id=\"haskell\">True</div></div><div class=\"suggestion-name\" style=\"clear:both;\">Using toList on tuple</div><div class=\"suggestion-row\" style=\"float: left;\"><div class=\"suggestion-warning\">Found:</div><div class=\"highlight-code\" id=\"haskell\">toList (1, 2)</div></div><div class=\"suggestion-row\" style=\"float: left;\"><div class=\"suggestion-warning\">Why Not:</div><div class=\"highlight-code\" id=\"haskell\">2</div></div>"
      ],
      "text/plain": [
       "Line 1: Evaluate\n",
       "Found:\n",
       "null []\n",
       "Why not:\n",
       "TrueLine 1: Using toList on tuple\n",
       "Found:\n",
       "toList (1, 2)\n",
       "Why not:\n",
       "2"
      ]
     },
     "metadata": {},
     "output_type": "display_data"
    },
    {
     "data": {
      "text/plain": [
       "False"
      ]
     },
     "metadata": {},
     "output_type": "display_data"
    },
    {
     "data": {
      "text/plain": [
       "True"
      ]
     },
     "metadata": {},
     "output_type": "display_data"
    },
    {
     "data": {
      "text/plain": [
       "True"
      ]
     },
     "metadata": {},
     "output_type": "display_data"
    },
    {
     "data": {
      "text/plain": [
       "False"
      ]
     },
     "metadata": {},
     "output_type": "display_data"
    },
    {
     "data": {
      "text/plain": [
       "Nothing"
      ]
     },
     "metadata": {},
     "output_type": "display_data"
    },
    {
     "data": {
      "text/plain": [
       "Just 2"
      ]
     },
     "metadata": {},
     "output_type": "display_data"
    },
    {
     "data": {
      "text/plain": [
       "Nothing"
      ]
     },
     "metadata": {},
     "output_type": "display_data"
    },
    {
     "data": {
      "text/plain": [
       "Just 10"
      ]
     },
     "metadata": {},
     "output_type": "display_data"
    },
    {
     "data": {
      "text/plain": [
       "True"
      ]
     },
     "metadata": {},
     "output_type": "display_data"
    },
    {
     "data": {
      "text/plain": [
       "False"
      ]
     },
     "metadata": {},
     "output_type": "display_data"
    },
    {
     "data": {
      "text/plain": [
       "0"
      ]
     },
     "metadata": {},
     "output_type": "display_data"
    },
    {
     "data": {
      "text/plain": [
       "1"
      ]
     },
     "metadata": {},
     "output_type": "display_data"
    },
    {
     "data": {
      "text/plain": [
       "3"
      ]
     },
     "metadata": {},
     "output_type": "display_data"
    },
    {
     "data": {
      "text/plain": [
       "True"
      ]
     },
     "metadata": {},
     "output_type": "display_data"
    },
    {
     "data": {
      "text/plain": [
       "Sum {getSum = 6}"
      ]
     },
     "metadata": {},
     "output_type": "display_data"
    },
    {
     "data": {
      "text/plain": [
       "Sum {getSum = 0}"
      ]
     },
     "metadata": {},
     "output_type": "display_data"
    },
    {
     "data": {
      "text/plain": [
       "Sum {getSum = 6}"
      ]
     },
     "metadata": {},
     "output_type": "display_data"
    }
   ],
   "source": [
    "import Data.Monoid \n",
    "\n",
    "sum :: (Foldable t, Num a) => t a -> a\n",
    "sum = getSum . foldMap Sum\n",
    "\n",
    "product :: (Foldable t, Num a) => t a -> a\n",
    "product = getProduct . foldMap Product\n",
    "\n",
    "elem :: (Foldable t, Eq a) => a -> t a -> Bool\n",
    "elem a = getAny . foldMap (\\x -> Any (x == a))\n",
    "\n",
    "elem 1 [4,5,6]\n",
    "elem 1 [4,1,6]\n",
    "\n",
    "elem 3 (2,3)\n",
    "elem 3 (3,4)\n",
    "\n",
    "minimum :: (Foldable t, Ord a) => t a -> Maybe a\n",
    "minimum = foldr (\\a -> Just . maybe a (min a)) Nothing\n",
    "\n",
    "minimum [] :: Maybe Int\n",
    "minimum [10,2,3]\n",
    "\n",
    "maximum :: (Foldable t, Ord a) => t a -> Maybe a\n",
    "maximum = foldr (\\a -> Just . maybe a (max a)) Nothing\n",
    "\n",
    "maximum [] :: Maybe Int\n",
    "maximum [10,2,3]\n",
    "\n",
    "null :: (Foldable t) => t a -> Bool\n",
    "null = foldr (const . const False) True\n",
    "\n",
    "null []\n",
    "null [1,2,3]\n",
    "\n",
    "length :: (Foldable t) => t a -> Int\n",
    "length = foldr (const (+1)) 0\n",
    "\n",
    "length []\n",
    "length [1]\n",
    "length [5,8,2]\n",
    "\n",
    "toList :: (Foldable t) => t a -> [a]\n",
    "toList = foldr (:) []\n",
    "\n",
    "toList (1,2) == [2]\n",
    "\n",
    "fold :: (Foldable t, Monoid m) => t m -> m\n",
    "fold = foldMap id\n",
    "\n",
    "fold (Sum <$> [1,2,3])\n",
    "fold (Sum <$> [])\n",
    "\n",
    "foldMapByFoldr :: (Foldable t, Monoid m) => (a -> m) -> t a -> m\n",
    "foldMapByFoldr f = foldr (\\a -> (f a <>)) mempty\n",
    "\n",
    "foldMapByFoldr Sum [1,2,3]"
   ]
  },
  {
   "cell_type": "markdown",
   "metadata": {},
   "source": [
    "## Chapter exercises"
   ]
  },
  {
   "cell_type": "code",
   "execution_count": 2,
   "metadata": {
    "collapsed": false
   },
   "outputs": [
    {
     "data": {
      "text/plain": [
       "Just (Sum {getSum = 12})"
      ]
     },
     "metadata": {},
     "output_type": "display_data"
    }
   ],
   "source": [
    "data Constant a b = Constant b\n",
    "\n",
    "instance Foldable (Constant a) where\n",
    "    foldMap f (Constant b) = f b\n",
    "    \n",
    "data Two a b = Two a b\n",
    "\n",
    "instance Foldable (Two a) where\n",
    "    foldMap f (Two _ b) = f b\n",
    "    \n",
    "data Three a b c = Three a b c\n",
    "\n",
    "instance Foldable (Three a b) where\n",
    "    foldMap f (Three _ _ c) = f c\n",
    "\n",
    "data Three' a b = Three' a b b\n",
    "\n",
    "instance Foldable (Three' a) where\n",
    "    foldMap f (Three' a b1 b2) = f b1 <> f b2\n",
    "    \n",
    "filterF :: ( Applicative f, Foldable t, Monoid (f a)) => (a -> Bool) -> t a -> f a\n",
    "filterF f = foldMap (\\a -> if f a then pure a else mempty)\n",
    "\n",
    "filterF (\\(Sum x) -> x `mod` 2 == 0) (Sum <$> [2,3,4,5,6]) :: Maybe (Sum Int)"
   ]
  }
 ],
 "metadata": {
  "anaconda-cloud": {},
  "kernelspec": {
   "display_name": "Haskell",
   "language": "haskell",
   "name": "haskell"
  },
  "language_info": {
   "codemirror_mode": "ihaskell",
   "file_extension": ".hs",
   "name": "haskell",
   "version": "8.0.2"
  }
 },
 "nbformat": 4,
 "nbformat_minor": 1
}
