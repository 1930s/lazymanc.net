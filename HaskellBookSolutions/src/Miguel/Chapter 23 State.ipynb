{
 "cells": [
  {
   "cell_type": "code",
   "execution_count": 1,
   "metadata": {
    "collapsed": false
   },
   "outputs": [
    {
     "data": {
      "text/plain": [
       "(5,[DieFive,DieOne,DieFour,DieSix,DieSix])"
      ]
     },
     "metadata": {},
     "output_type": "display_data"
    }
   ],
   "source": [
    "import Control.Applicative (liftA3)\n",
    "import Control.Monad (replicateM)\n",
    "import Control.Monad.Trans.State\n",
    "import System.Random\n",
    "\n",
    "data Die =    DieOne\n",
    "            | DieTwo\n",
    "            | DieThree\n",
    "            | DieFour\n",
    "            | DieFive\n",
    "            | DieSix\n",
    "            deriving (Eq, Show)\n",
    "            \n",
    "intToDie :: Int -> Die\n",
    "intToDie n =\n",
    "    case n of\n",
    "    1 -> DieOne\n",
    "    2 -> DieTwo\n",
    "    3 -> DieThree\n",
    "    4 -> DieFour\n",
    "    5 -> DieFive\n",
    "    6 -> DieSix\n",
    "    -- Use this tactic _extremely_ sparingly.\n",
    "    x -> error $ \"intToDie got non 1-6 integer: \" ++ show x\n",
    "    \n",
    "rollDie :: State StdGen Die\n",
    "rollDie = state $ do\n",
    "    (n, s) <- randomR (1, 6)\n",
    "    return (intToDie n, s)\n",
    "    \n",
    "rollsToGetN :: Int -> StdGen -> Int\n",
    "rollsToGetN n g = go 0 0 g\n",
    "    where go :: Int -> Int -> StdGen -> Int\n",
    "          go sum count gen\n",
    "              | sum >= n = count\n",
    "              | otherwise =\n",
    "                  let (die, nextGen) = randomR (1, 6) gen\n",
    "                  in go (sum + die) (count + 1) nextGen\n",
    "            \n",
    "rollsCountLogged :: Int -> StdGen -> (Int, [Die])\n",
    "rollsCountLogged n g = go 0 (0,[]) g\n",
    "    where go :: Int -> (Int, [Die]) -> StdGen -> (Int, [Die])\n",
    "          go sum (count, dices) gen\n",
    "            | sum >= n = (count, dices)\n",
    "            | otherwise =\n",
    "                let (die, nextGen) = randomR (1, 6) gen\n",
    "                in go (sum + die) (count + 1, (intToDie die) : dices) nextGen\n",
    "\n",
    "g = mkStdGen 0\n",
    "\n",
    "rollsCountLogged 20 g"
   ]
  },
  {
   "cell_type": "code",
   "execution_count": 2,
   "metadata": {
    "collapsed": false
   },
   "outputs": [],
   "source": [
    "{-# LANGUAGE InstanceSigs #-}\n",
    "\n",
    "newtype Moi s a = Moi { runMoi :: s -> (a, s) }\n",
    "\n",
    "instance Functor (Moi s) where\n",
    "    fmap :: (a -> b) -> Moi s a -> Moi s b\n",
    "    fmap f (Moi g) = Moi moi\n",
    "        where moi s = let (a, s') = g s\n",
    "                      in (f a, s')\n",
    "instance Applicative (Moi s) where\n",
    "    pure :: a -> Moi s a\n",
    "    pure a = Moi (\\s -> (a,s))\n",
    "    (<*>) :: Moi s (a -> b) -> Moi s a-> Moi s b\n",
    "    (Moi mf) <*> (Moi ma) = Moi moi\n",
    "        where moi s = let (f, s' ) = mf s\n",
    "                          (a, s'') = ma s'\n",
    "                      in (f a, s'')\n",
    "                      \n",
    "instance Monad (Moi s) where\n",
    "    return = pure\n",
    "    (>>=) :: Moi s a -> (a -> Moi s b) -> Moi s b\n",
    "    (Moi ma) >>= g = Moi moi\n",
    "        where moi s = let (a, s') = ma s\n",
    "                      in (runMoi (g a)) s'\n"
   ]
  },
  {
   "cell_type": "code",
   "execution_count": 3,
   "metadata": {
    "collapsed": false
   },
   "outputs": [],
   "source": [
    "get :: Moi s s\n",
    "get = Moi (\\s -> (s,s))\n",
    "\n",
    "put :: s -> Moi s ()\n",
    "put s = Moi (\\_ -> ((),s))\n",
    "\n",
    "exec :: Moi s a -> s -> s\n",
    "exec (Moi moi) s = snd $ moi s\n",
    "\n",
    "eval :: Moi s a -> s -> a\n",
    "eval (Moi moi) s = fst $ moi s\n",
    "\n",
    "modify :: (s -> s) -> Moi s ()\n",
    "modify f = Moi (\\s -> ((), f s) )"
   ]
  }
 ],
 "metadata": {
  "anaconda-cloud": {},
  "kernelspec": {
   "display_name": "Haskell",
   "language": "haskell",
   "name": "haskell"
  },
  "language_info": {
   "codemirror_mode": "ihaskell",
   "file_extension": ".hs",
   "name": "haskell",
   "version": "8.0.2"
  }
 },
 "nbformat": 4,
 "nbformat_minor": 1
}
