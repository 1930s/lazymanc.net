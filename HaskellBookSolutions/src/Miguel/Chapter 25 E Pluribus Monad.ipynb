{
 "cells": [
  {
   "cell_type": "markdown",
   "metadata": {},
   "source": [
    "# Chapter 25 E Pluribus Monad"
   ]
  },
  {
   "cell_type": "code",
   "execution_count": 1,
   "metadata": {
    "collapsed": false
   },
   "outputs": [],
   "source": [
    "newtype Compose f g a = Compose { getCompose :: f (g a) } deriving (Eq, Show)\n",
    "\n",
    "instance (Functor f, Functor g) => Functor (Compose f g) where\n",
    "    fmap f (Compose fga) = Compose $ (fmap . fmap) f fga\n",
    "    \n",
    "{-# LANGUAGE InstanceSigs #-}\n",
    "instance (Applicative f, Applicative g) => Applicative (Compose f g) where\n",
    "    pure :: a -> Compose f g a\n",
    "    pure = Compose . pure . pure\n",
    "    (<*>) :: Compose f g (a -> b)\n",
    "             -> Compose f g a\n",
    "             -> Compose f g b\n",
    "    (Compose fg_f) <*> (Compose fg_a) =\n",
    "        Compose $ (<*>) <$> fg_f <*> fg_a -- first <*> is for 'g', <$> is also for 'g' and last <*> is for 'f'\n",
    "        \n",
    "instance (Foldable f, Foldable g) => Foldable (Compose f g) where\n",
    "    foldMap :: Monoid m => (a -> m) -> Compose f g a -> m\n",
    "    foldMap f (Compose fga) = foldMap (foldMap f) fga \n",
    "\n",
    "instance (Traversable f, Traversable g) => Traversable (Compose f g) where\n",
    "    traverse :: Applicative h => (a -> h b) -> Compose f g a -> h (Compose f g b)\n",
    "    traverse f (Compose fga) = Compose <$> traverse (traverse f) fga"
   ]
  },
  {
   "cell_type": "code",
   "execution_count": 2,
   "metadata": {
    "collapsed": true
   },
   "outputs": [],
   "source": [
    "class Bifunctor p where\n",
    "    {-# MINIMAL bimap | first, second #-}\n",
    "    bimap :: (a -> b)\n",
    "             -> (c -> d)\n",
    "             -> p a c\n",
    "             -> p b d\n",
    "    bimap f g = first f . second g\n",
    "    \n",
    "    first :: (a -> b) -> p a c -> p b c\n",
    "    first f = bimap f id\n",
    "    \n",
    "    second :: (b -> c) -> p a b -> p a c\n",
    "    second = bimap id\n",
    "    \n",
    "data Deux a b = Deux a b\n",
    "\n",
    "instance Bifunctor Deux where\n",
    "    bimap f g (Deux a b) = Deux (f a) (g b)\n",
    "    \n",
    "data Const a b = Const a\n",
    "\n",
    "instance Bifunctor Const where\n",
    "    bimap f _ (Const a) = Const (f a) \n",
    "    \n",
    "data Drei a b c = Drei a b c\n",
    "\n",
    "instance Bifunctor (Drei x) where\n",
    "    bimap f g (Drei x a b) = Drei x (f a) (g b)\n",
    "    \n",
    "instance Bifunctor Either where\n",
    "    bimap f g e = case e of\n",
    "        Left  l -> Left  (f l)\n",
    "        Right r -> Right (g r)"
   ]
  }
 ],
 "metadata": {
  "anaconda-cloud": {},
  "kernelspec": {
   "display_name": "Haskell",
   "language": "haskell",
   "name": "haskell"
  },
  "language_info": {
   "codemirror_mode": "ihaskell",
   "file_extension": ".hs",
   "name": "haskell",
   "version": "8.0.2"
  }
 },
 "nbformat": 4,
 "nbformat_minor": 1
}
