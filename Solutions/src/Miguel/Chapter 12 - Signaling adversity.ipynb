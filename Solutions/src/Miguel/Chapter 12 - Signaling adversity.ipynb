{
 "cells": [
  {
   "cell_type": "markdown",
   "metadata": {},
   "source": [
    "# Chapter 12: Signaling failure"
   ]
  },
  {
   "cell_type": "code",
   "execution_count": 1,
   "metadata": {},
   "outputs": [
    {
     "data": {
      "text/plain": [
       "\"cat in a hat\""
      ]
     },
     "metadata": {},
     "output_type": "display_data"
    }
   ],
   "source": [
    "notThe :: String -> Maybe String\n",
    "notThe \"the\" = Nothing\n",
    "notThe str   = Just str\n",
    "\n",
    "replaceThe :: String -> String\n",
    "replaceThe str = \n",
    "    let parts = words str\n",
    "        replace = maybe \"a\" id\n",
    "        replaced = map (replace . notThe) parts\n",
    "    in unwords replaced\n",
    "    \n",
    "replaceThe \"cat in the hat\""
   ]
  },
  {
   "cell_type": "code",
   "execution_count": 2,
   "metadata": {},
   "outputs": [
    {
     "data": {
      "text/plain": [
       "0"
      ]
     },
     "metadata": {},
     "output_type": "display_data"
    },
    {
     "data": {
      "text/plain": [
       "0"
      ]
     },
     "metadata": {},
     "output_type": "display_data"
    },
    {
     "data": {
      "text/plain": [
       "0"
      ]
     },
     "metadata": {},
     "output_type": "display_data"
    },
    {
     "data": {
      "text/plain": [
       "1"
      ]
     },
     "metadata": {},
     "output_type": "display_data"
    },
    {
     "data": {
      "text/plain": [
       "2"
      ]
     },
     "metadata": {},
     "output_type": "display_data"
    }
   ],
   "source": [
    "isVowel :: Char -> Bool\n",
    "isVowel c = elem c [ 'a' , 'e' , 'i' , 'o' , 'u' ]\n",
    "\n",
    "countTheBeforeVowel :: String -> Integer\n",
    "countTheBeforeVowel str = count (words str)\n",
    "    where count []                       = 0\n",
    "          count [_]                      = 0\n",
    "          count (\"the\" : ((c:_) : rest)) = (if isVowel c then 1 else 0) + (count rest)\n",
    "          count (_ : rest)               = count rest\n",
    "\n",
    "countTheBeforeVowel \"the cow\"\n",
    "countTheBeforeVowel \"the cow eats\"\n",
    "countTheBeforeVowel \"the cow eats the grass\"\n",
    "countTheBeforeVowel \"the evil eats the grass\"\n",
    "countTheBeforeVowel \"the evil eats the emo\""
   ]
  },
  {
   "cell_type": "code",
   "execution_count": 3,
   "metadata": {},
   "outputs": [
    {
     "data": {
      "text/plain": [
       "2"
      ]
     },
     "metadata": {},
     "output_type": "display_data"
    }
   ],
   "source": [
    "countVowels :: String -> Int\n",
    "countVowels = length . (filter isVowel)\n",
    "\n",
    "countVowels \"life\""
   ]
  },
  {
   "cell_type": "code",
   "execution_count": 4,
   "metadata": {
    "collapsed": true
   },
   "outputs": [],
   "source": [
    "newtype Word' = Word' String deriving (Eq, Show)"
   ]
  },
  {
   "cell_type": "code",
   "execution_count": 5,
   "metadata": {},
   "outputs": [
    {
     "data": {
      "text/plain": [
       "Just (Word' \"hello\")"
      ]
     },
     "metadata": {},
     "output_type": "display_data"
    },
    {
     "data": {
      "text/plain": [
       "Nothing"
      ]
     },
     "metadata": {},
     "output_type": "display_data"
    }
   ],
   "source": [
    "isConsonant :: Char -> Bool\n",
    "isConsonant c = elem c ['a'..'z'] && (not $ isVowel c) \n",
    "\n",
    "countConsonants :: String -> Int\n",
    "countConsonants = length . (filter isConsonant)\n",
    "\n",
    "mkWord :: String -> Maybe Word'\n",
    "mkWord str | countVowels str <= countConsonants str = Just (Word' str)\n",
    "           | otherwise                              = Nothing\n",
    "\n",
    "mkWord \"hello\"\n",
    "mkWord \"aaaa\""
   ]
  },
  {
   "cell_type": "code",
   "execution_count": 6,
   "metadata": {},
   "outputs": [
    {
     "data": {
      "text/plain": [
       "2"
      ]
     },
     "metadata": {},
     "output_type": "display_data"
    },
    {
     "data": {
      "text/plain": [
       "Just (Succ (Succ (Succ Zero)))"
      ]
     },
     "metadata": {},
     "output_type": "display_data"
    }
   ],
   "source": [
    "data Nat = Zero | Succ Nat deriving (Eq, Show)\n",
    "\n",
    "natToInteger :: Nat -> Integer\n",
    "natToInteger Zero = 0\n",
    "natToInteger (Succ nat) = (+1) (natToInteger nat)\n",
    "\n",
    "natToInteger (Succ (Succ Zero))\n",
    "\n",
    "integerToNat :: Integer -> Maybe Nat\n",
    "integerToNat n | n < 0     = Nothing\n",
    "               | otherwise = Just (int2Nat n) \n",
    "                   where int2Nat 0 = Zero\n",
    "                         int2Nat n = Succ (int2Nat (n-1))\n",
    "                         \n",
    "integerToNat 3"
   ]
  },
  {
   "cell_type": "code",
   "execution_count": 7,
   "metadata": {},
   "outputs": [
    {
     "data": {
      "text/plain": [
       "12"
      ]
     },
     "metadata": {},
     "output_type": "display_data"
    },
    {
     "data": {
      "text/plain": [
       "1"
      ]
     },
     "metadata": {},
     "output_type": "display_data"
    },
    {
     "data": {
      "text/plain": [
       "3"
      ]
     },
     "metadata": {},
     "output_type": "display_data"
    },
    {
     "data": {
      "text/plain": [
       "1"
      ]
     },
     "metadata": {},
     "output_type": "display_data"
    },
    {
     "data": {
      "text/plain": [
       "[42]"
      ]
     },
     "metadata": {},
     "output_type": "display_data"
    },
    {
     "data": {
      "text/plain": [
       "[]"
      ]
     },
     "metadata": {},
     "output_type": "display_data"
    },
    {
     "data": {
      "text/plain": [
       "[1,3]"
      ]
     },
     "metadata": {},
     "output_type": "display_data"
    },
    {
     "data": {
      "text/plain": [
       "Nothing"
      ]
     },
     "metadata": {},
     "output_type": "display_data"
    },
    {
     "data": {
      "text/plain": [
       "Just [1,3]"
      ]
     },
     "metadata": {},
     "output_type": "display_data"
    },
    {
     "data": {
      "text/plain": [
       "Nothing"
      ]
     },
     "metadata": {},
     "output_type": "display_data"
    }
   ],
   "source": [
    "isJust :: Maybe a -> Bool\n",
    "isJust (Just _) = True\n",
    "usJust _        = False\n",
    "\n",
    "isNothing :: Maybe a -> Bool\n",
    "isNothing m = not (isJust m)\n",
    "\n",
    "mayybee :: b -> (a -> b) -> Maybe a -> b\n",
    "mayybee ifNothing ifSomething m = case m of\n",
    "    Just something -> ifSomething something\n",
    "    Nothing        -> ifNothing\n",
    "    \n",
    "mayybee 1 (+3) (Just 9)\n",
    "mayybee 1 (+3) Nothing\n",
    "\n",
    "fromMaybe :: a -> Maybe a -> a\n",
    "fromMaybe def = mayybee def id\n",
    "\n",
    "fromMaybe 1 (Just 3)\n",
    "fromMaybe 1 Nothing\n",
    "\n",
    "listToMaybe :: [a] -> Maybe a\n",
    "listToMaybe (a:_) = Just a\n",
    "listToMaybe _     = Nothing\n",
    "\n",
    "maybeToList :: Maybe a -> [a]\n",
    "maybeToList = mayybee [] (:[])\n",
    "\n",
    "maybeToList (Just 42)\n",
    "maybeToList Nothing\n",
    "\n",
    "catMaybes :: [Maybe a] -> [a]\n",
    "catMaybes [] = []\n",
    "catMaybes (Just a : tail) = a : catMaybes tail\n",
    "catMaybes (Nothing: tail) = catMaybes tail\n",
    "\n",
    "catMaybes [Just 1, Nothing, Just 3]\n",
    "\n",
    "flipMaybe :: [Maybe a] -> Maybe [a]\n",
    "flipMaybe [] = Just []\n",
    "flipMaybe (ma : tail) = case ma of\n",
    "    Just a  -> case flipMaybe tail of\n",
    "        Just tail -> Just (a : tail)\n",
    "        Nothing   -> Nothing\n",
    "    Nothing -> Nothing\n",
    "    \n",
    "flipMaybe [Just 1, Nothing]\n",
    "flipMaybe [Just 1, Just 3]\n",
    "flipMaybe [Just 1, Just 3, Nothing]"
   ]
  },
  {
   "cell_type": "code",
   "execution_count": 8,
   "metadata": {},
   "outputs": [
    {
     "data": {
      "text/plain": [
       "[1,3]"
      ]
     },
     "metadata": {},
     "output_type": "display_data"
    },
    {
     "data": {
      "text/plain": [
       "([\"a\",\"b\"],[1,2,3])"
      ]
     },
     "metadata": {},
     "output_type": "display_data"
    }
   ],
   "source": [
    "lefts' :: [Either a b] -> [a]\n",
    "lefts' = foldr f []\n",
    "    where  f (Right _) rest = rest\n",
    "           f (Left  a) rest = a : rest\n",
    "           \n",
    "lefts' [Left 1, Right 2, Left 3]\n",
    "\n",
    "rights' :: [Either a b] -> [b]\n",
    "rights' = foldr f []\n",
    "    where  f (Right b) rest = b : rest\n",
    "           f (Left  _) rest = rest\n",
    "           \n",
    "partitionEithers' :: [Either a b] -> ([a], [b])\n",
    "partitionEithers' = foldr f ([],[])\n",
    "    where f (Right b) (ls,rs) = (ls,b:rs)\n",
    "          f (Left  a) (ls,rs) = (a:ls,rs)\n",
    "          \n",
    "partitionEithers' [Right 1, Left \"a\", Right 2, Right 3, Left \"b\"]\n",
    "\n",
    "either' :: (a -> c) -> (b -> c) -> Either a b -> c\n",
    "either' left _  (Left a ) = left a\n",
    "either' _ right (Right b) = right b\n",
    "\n",
    "eitherMaybe'' :: (b -> c) -> Either a b -> Maybe c\n",
    "eitherMaybe'' f = either' (const Nothing) (Just . f)"
   ]
  },
  {
   "cell_type": "code",
   "execution_count": 9,
   "metadata": {},
   "outputs": [
    {
     "data": {
      "text/plain": [
       "[0,1,2,3,4]"
      ]
     },
     "metadata": {},
     "output_type": "display_data"
    },
    {
     "data": {
      "text/plain": [
       "[0,1,2,3,4]"
      ]
     },
     "metadata": {},
     "output_type": "display_data"
    }
   ],
   "source": [
    "myIterate :: (a -> a) -> a -> [a]\n",
    "myIterate f a0 = a0 : (myIterate f (f a0))\n",
    "\n",
    "take 5 $ myIterate (+1) 0\n",
    "\n",
    "myUnfoldr :: (b -> Maybe (a, b)) -> b -> [a]\n",
    "myUnfoldr f b = maybe [] (\\(a,next) -> a : myUnfoldr f next) (f b)\n",
    "\n",
    "betterIterate :: (a -> a) -> a -> [a]\n",
    "betterIterate f = myUnfoldr (\\a -> Just (a, f a))\n",
    "\n",
    "take 5 $ betterIterate (+1) 0\n"
   ]
  },
  {
   "cell_type": "code",
   "execution_count": 10,
   "metadata": {},
   "outputs": [
    {
     "data": {
      "text/plain": [
       "Leaf"
      ]
     },
     "metadata": {},
     "output_type": "display_data"
    },
    {
     "data": {
      "text/plain": [
       "Node Leaf 0 Leaf"
      ]
     },
     "metadata": {},
     "output_type": "display_data"
    },
    {
     "data": {
      "text/plain": [
       "Node (Node Leaf 1 Leaf) 0 (Node Leaf 1 Leaf)"
      ]
     },
     "metadata": {},
     "output_type": "display_data"
    },
    {
     "data": {
      "text/plain": [
       "Node (Node (Node Leaf 2 Leaf) 1 (Node Leaf 2 Leaf)) 0 (Node (Node Leaf 2 Leaf) 1 (Node Leaf 2 Leaf))"
      ]
     },
     "metadata": {},
     "output_type": "display_data"
    }
   ],
   "source": [
    "data BinaryTree a = Leaf | Node (BinaryTree a) a (BinaryTree a) deriving (Eq, Ord, Show)\n",
    "\n",
    "unfold :: (a -> Maybe (a,b,a)) -> a -> BinaryTree b\n",
    "unfold f a0 = maybe Leaf (\\(l,a,r) -> Node (unfold f l) a (unfold f r)) (f a0)\n",
    "\n",
    "treeBuild :: Integer -> BinaryTree Integer\n",
    "treeBuild n = unfold f 0\n",
    "    where f x | x == n = Nothing\n",
    "              | otherwise = Just (x+1,x,x+1)\n",
    "\n",
    "treeBuild 0\n",
    "treeBuild 1\n",
    "treeBuild 2\n",
    "treeBuild 3"
   ]
  }
 ],
 "metadata": {
  "anaconda-cloud": {},
  "kernelspec": {
   "display_name": "Haskell",
   "language": "haskell",
   "name": "haskell"
  },
  "language_info": {
   "codemirror_mode": "ihaskell",
   "file_extension": ".hs",
   "name": "haskell",
   "version": "8.0.2"
  }
 },
 "nbformat": 4,
 "nbformat_minor": 1
}
