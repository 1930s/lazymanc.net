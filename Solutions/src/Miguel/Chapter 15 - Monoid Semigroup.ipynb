{
 "cells": [
  {
   "cell_type": "markdown",
   "metadata": {},
   "source": [
    "# Chapter 15: Monoid, Semigroup"
   ]
  },
  {
   "cell_type": "code",
   "execution_count": 1,
   "metadata": {
    "collapsed": false
   },
   "outputs": [
    {
     "data": {
      "text/plain": [
       "Only (Sum {getSum = 8})"
      ]
     },
     "metadata": {},
     "output_type": "display_data"
    },
    {
     "data": {
      "text/plain": [
       "Only (Sum {getSum = 3})"
      ]
     },
     "metadata": {},
     "output_type": "display_data"
    },
    {
     "data": {
      "text/plain": [
       "Only (Sum {getSum = 5})"
      ]
     },
     "metadata": {},
     "output_type": "display_data"
    },
    {
     "data": {
      "text/plain": [
       "Only (Sum {getSum = 8})"
      ]
     },
     "metadata": {},
     "output_type": "display_data"
    },
    {
     "data": {
      "text/plain": [
       "Nada"
      ]
     },
     "metadata": {},
     "output_type": "display_data"
    }
   ],
   "source": [
    "import Data.Monoid\n",
    "\n",
    "data Optional a = Nada\n",
    "                | Only a\n",
    "                deriving (Eq, Show)\n",
    "\n",
    "instance Monoid a => Monoid (Optional a) where\n",
    "    mempty = Only mempty\n",
    "    (Only x) `mappend` (Only y) = Only (x `mappend` y)\n",
    "    only @ (Only _) `mappend` _ = only\n",
    "    _ `mappend` only @ (Only _) = only\n",
    "    _ `mappend` _               = Nada\n",
    "\n",
    "(Only $ Sum 3) <> (Only $ Sum 5)\n",
    "(Only $ Sum 3) <> Nada\n",
    "Nada <> (Only $ Sum 5)\n",
    "(Only $ Sum 3) <> (Only $ Sum 5) <> Nada\n",
    "Nada <> Nada"
   ]
  },
  {
   "cell_type": "code",
   "execution_count": 2,
   "metadata": {
    "collapsed": false
   },
   "outputs": [
    {
     "data": {
      "text/plain": [
       "+++ OK, passed 100 tests."
      ]
     },
     "metadata": {},
     "output_type": "display_data"
    },
    {
     "data": {
      "text/plain": [
       "+++ OK, passed 100 tests."
      ]
     },
     "metadata": {},
     "output_type": "display_data"
    },
    {
     "data": {
      "text/plain": [
       "+++ OK, passed 100 tests."
      ]
     },
     "metadata": {},
     "output_type": "display_data"
    }
   ],
   "source": [
    "newtype First' a = First { getFirst' :: Optional a } deriving (Eq, Show)\n",
    "\n",
    "instance Monoid (First' a) where\n",
    "    mempty = First Nada\n",
    "    only @ (First (Only a)) `mappend` _ = only\n",
    "    _ `mappend` other = other\n",
    "    \n",
    "import Test.QuickCheck\n",
    "\n",
    "monoidLeftIdentity :: (Eq m, Monoid m) => m -> Bool\n",
    "monoidLeftIdentity a = (mempty <> a) == a\n",
    "\n",
    "monoidRightIdentity :: (Eq m, Monoid m) => m -> Bool\n",
    "monoidRightIdentity a = (a <> mempty) == a\n",
    "\n",
    "monoidAssoc :: (Eq m, Monoid m) => m -> m -> m -> Bool\n",
    "monoidAssoc a b c = (a <> (b <> c)) == ((a <> b) <> c)\n",
    "\n",
    "instance Arbitrary a => Arbitrary (Optional a) where\n",
    "    arbitrary = frequency [(3, fmap Only arbitrary), (1, return Nada)]\n",
    "\n",
    "instance Arbitrary a => Arbitrary (First' a) where\n",
    "    arbitrary = fmap First arbitrary\n",
    "\n",
    "type M = First' Int\n",
    "\n",
    "quickCheck (monoidAssoc :: M -> M -> M -> Bool)\n",
    "quickCheck (monoidLeftIdentity :: M -> Bool)\n",
    "quickCheck (monoidRightIdentity :: M -> Bool)"
   ]
  },
  {
   "cell_type": "markdown",
   "metadata": {},
   "source": [
    "## Semigroup Exercises"
   ]
  },
  {
   "cell_type": "code",
   "execution_count": 3,
   "metadata": {
    "collapsed": false
   },
   "outputs": [
    {
     "data": {
      "text/plain": [
       "Two (Sum {getSum = 4}) \"asdwert\""
      ]
     },
     "metadata": {},
     "output_type": "display_data"
    },
    {
     "data": {
      "text/plain": [
       "+++ OK, passed 100 tests."
      ]
     },
     "metadata": {},
     "output_type": "display_data"
    }
   ],
   "source": [
    "data Two a b = Two a b deriving (Eq, Show)\n",
    "import Data.Semigroup\n",
    "import Data.Monoid hiding((<>))\n",
    "instance (Semigroup a, Semigroup b) => Semigroup (Two a b) where\n",
    "    (Two a1 b1) <> (Two a2 b2) = Two (a1 <> a2) (b1 <> b2)\n",
    "\n",
    "Two (Sum 1) \"asd\" <> Two (Sum 3) \"wert\"\n",
    "\n",
    "instance (Arbitrary a, Arbitrary b) => Arbitrary (Two a b) where\n",
    "    arbitrary = Two <$> arbitrary <*> arbitrary\n",
    "\n",
    "semigroupAssoc :: (Eq m, Semigroup m) => m -> m -> m -> Bool\n",
    "semigroupAssoc a b c = (a <> (b <> c)) == ((a <> b) <> c)\n",
    "\n",
    "type S = Two (Sum Int) String\n",
    "quickCheck (semigroupAssoc :: S -> S -> S -> Bool)"
   ]
  },
  {
   "cell_type": "code",
   "execution_count": 4,
   "metadata": {
    "collapsed": false
   },
   "outputs": [
    {
     "data": {
      "text/plain": [
       "+++ OK, passed 100 tests."
      ]
     },
     "metadata": {},
     "output_type": "display_data"
    }
   ],
   "source": [
    "data Or a b = Fst a | Snd b deriving (Eq, Show)\n",
    "\n",
    "instance Semigroup (Or a b) where\n",
    "    snd @ (Snd _) <> _ = snd\n",
    "    _ <> snd @ (Snd _) = snd\n",
    "    or <> _            = or\n",
    "\n",
    "instance (Arbitrary a, Arbitrary b) => Arbitrary (Or a b) where\n",
    "    arbitrary = frequency[(1, Fst <$> arbitrary),(1, Snd <$> arbitrary)]\n",
    "\n",
    "type S = Or Int String\n",
    "quickCheck (semigroupAssoc :: S -> S -> S -> Bool)"
   ]
  },
  {
   "cell_type": "code",
   "execution_count": 5,
   "metadata": {
    "collapsed": false
   },
   "outputs": [
    {
     "data": {
      "text/plain": [
       "Sum {getSum = 2}"
      ]
     },
     "metadata": {},
     "output_type": "display_data"
    },
    {
     "data": {
      "text/plain": [
       "Sum {getSum = 4}"
      ]
     },
     "metadata": {},
     "output_type": "display_data"
    },
    {
     "data": {
      "text/plain": [
       "Sum {getSum = 2}"
      ]
     },
     "metadata": {},
     "output_type": "display_data"
    }
   ],
   "source": [
    "newtype Combine a b = Combine { unCombine :: (a -> b) }\n",
    "\n",
    "instance Semigroup b => Semigroup (Combine a b) where\n",
    "    (Combine f) <> (Combine g) = Combine (\\x -> f x <> g x)\n",
    "\n",
    "let f = Combine $ \\n -> Sum (n + 1)\n",
    "let g = Combine $ \\n -> Sum (n - 1)\n",
    "\n",
    "unCombine (f <> g) 1\n",
    "unCombine (f <> f) 1\n",
    "unCombine (g <> f) 1\n",
    "\n",
    "--instance (Arbitrary (a -> b)) => Arbitrary (Combine a b) where\n",
    "--    arbitrary = Combine <$> arbitrary\n",
    "\n",
    "-- @TODO quickcheck tests"
   ]
  },
  {
   "cell_type": "code",
   "execution_count": 6,
   "metadata": {
    "collapsed": false
   },
   "outputs": [
    {
     "data": {
      "text/plain": [
       "26"
      ]
     },
     "metadata": {},
     "output_type": "display_data"
    }
   ],
   "source": [
    "newtype Comp a = Comp { unComp :: a -> a }\n",
    "\n",
    "instance Semigroup (Comp a) where\n",
    "    (Comp f) <> (Comp g) = Comp (f . g)\n",
    "\n",
    "let f = unComp $ Comp (+1) <> Comp (*5)\n",
    "f 5"
   ]
  },
  {
   "cell_type": "code",
   "execution_count": 7,
   "metadata": {
    "collapsed": false
   },
   "outputs": [
    {
     "data": {
      "text/plain": [
       "Success 1"
      ]
     },
     "metadata": {},
     "output_type": "display_data"
    },
    {
     "data": {
      "text/plain": [
       "Failure \"wootblah\""
      ]
     },
     "metadata": {},
     "output_type": "display_data"
    },
    {
     "data": {
      "text/plain": [
       "Success 1"
      ]
     },
     "metadata": {},
     "output_type": "display_data"
    },
    {
     "data": {
      "text/plain": [
       "Success 2"
      ]
     },
     "metadata": {},
     "output_type": "display_data"
    },
    {
     "data": {
      "text/plain": [
       "+++ OK, passed 100 tests."
      ]
     },
     "metadata": {},
     "output_type": "display_data"
    }
   ],
   "source": [
    "data Validation a b = Failure a | Success b deriving (Eq, Show)\n",
    "\n",
    "instance Semigroup a => Semigroup (Validation a b) where\n",
    "    (Failure a1)          <> (Failure a2)          = Failure (a1 <> a2)\n",
    "    success @ (Success _) <> _                     = success\n",
    "    _                     <> success @ (Success _) = success\n",
    "\n",
    "Success 1 <> Failure \"blah\"\n",
    "Failure \"woot\" <> Failure \"blah\"\n",
    "Success 1 <> Success 2\n",
    "Failure \"woot\" <> Success 2\n",
    "\n",
    "instance (Arbitrary a, Arbitrary b) => Arbitrary (Validation a b) where\n",
    "    arbitrary = frequency[(1, Failure <$> arbitrary),(1, Success <$> arbitrary)]\n",
    "\n",
    "type S = Validation String Int\n",
    "quickCheck (semigroupAssoc :: S -> S -> S -> Bool)"
   ]
  },
  {
   "cell_type": "markdown",
   "metadata": {},
   "source": [
    "## Monoid exercises"
   ]
  },
  {
   "cell_type": "code",
   "execution_count": 8,
   "metadata": {
    "collapsed": false
   },
   "outputs": [
    {
     "data": {
      "text/plain": [
       "+++ OK, passed 100 tests."
      ]
     },
     "metadata": {},
     "output_type": "display_data"
    },
    {
     "data": {
      "text/plain": [
       "+++ OK, passed 100 tests."
      ]
     },
     "metadata": {},
     "output_type": "display_data"
    },
    {
     "data": {
      "text/plain": [
       "+++ OK, passed 100 tests."
      ]
     },
     "metadata": {},
     "output_type": "display_data"
    },
    {
     "data": {
      "text/plain": [
       "Sum {getSum = 2}"
      ]
     },
     "metadata": {},
     "output_type": "display_data"
    }
   ],
   "source": [
    "instance (Monoid a, Monoid b) => Monoid (Two a b) where\n",
    "    mempty = \n",
    "        Two mempty mempty\n",
    "    (Two a1 b1) `mappend` (Two a2 b2) = \n",
    "        Two (a1 `mappend` a2) (b1 `mappend` b2) -- @TODO: How to avoid writing this again?\n",
    "\n",
    "type M = Two (Sum Int) String\n",
    "quickCheck (monoidAssoc :: M -> M -> M -> Bool)\n",
    "quickCheck (monoidLeftIdentity :: M -> Bool)\n",
    "quickCheck (monoidRightIdentity :: M -> Bool)\n",
    "\n",
    "instance Monoid b => Monoid (Combine a b) where\n",
    "    mempty = Combine (const mempty)\n",
    "    (Combine f) `mappend` (Combine g) = Combine (\\x -> f x `mappend` g x)\n",
    "\n",
    "let f = Combine $ \\n -> Sum (n + 1)\n",
    "unCombine (mappend f mempty) 1\n",
    "\n",
    "-- @TODO quickcheck tests\n",
    "\n",
    "instance Monoid (Comp a) where\n",
    "    mempty = Comp id\n",
    "    (Comp f) `mappend` (Comp g) = Comp (f . g)\n",
    "    \n",
    "-- @TODO quickcheck tests"
   ]
  },
  {
   "cell_type": "code",
   "execution_count": 9,
   "metadata": {
    "collapsed": false
   },
   "outputs": [
    {
     "data": {
      "text/html": [
       "<style>/* Styles used for the Hoogle display in the pager */\n",
       ".hoogle-doc {\n",
       "display: block;\n",
       "padding-bottom: 1.3em;\n",
       "padding-left: 0.4em;\n",
       "}\n",
       ".hoogle-code {\n",
       "display: block;\n",
       "font-family: monospace;\n",
       "white-space: pre;\n",
       "}\n",
       ".hoogle-text {\n",
       "display: block;\n",
       "}\n",
       ".hoogle-name {\n",
       "color: green;\n",
       "font-weight: bold;\n",
       "}\n",
       ".hoogle-head {\n",
       "font-weight: bold;\n",
       "}\n",
       ".hoogle-sub {\n",
       "display: block;\n",
       "margin-left: 0.4em;\n",
       "}\n",
       ".hoogle-package {\n",
       "font-weight: bold;\n",
       "font-style: italic;\n",
       "}\n",
       ".hoogle-module {\n",
       "font-weight: bold;\n",
       "}\n",
       ".hoogle-class {\n",
       "font-weight: bold;\n",
       "}\n",
       ".get-type {\n",
       "color: green;\n",
       "font-weight: bold;\n",
       "font-family: monospace;\n",
       "display: block;\n",
       "white-space: pre-wrap;\n",
       "}\n",
       ".show-type {\n",
       "color: green;\n",
       "font-weight: bold;\n",
       "font-family: monospace;\n",
       "margin-left: 1em;\n",
       "}\n",
       ".mono {\n",
       "font-family: monospace;\n",
       "display: block;\n",
       "}\n",
       ".err-msg {\n",
       "color: red;\n",
       "font-style: italic;\n",
       "font-family: monospace;\n",
       "white-space: pre;\n",
       "display: block;\n",
       "}\n",
       "#unshowable {\n",
       "color: red;\n",
       "font-weight: bold;\n",
       "}\n",
       ".err-msg.in.collapse {\n",
       "padding-top: 0.7em;\n",
       "}\n",
       ".highlight-code {\n",
       "white-space: pre;\n",
       "font-family: monospace;\n",
       "}\n",
       ".suggestion-warning { \n",
       "font-weight: bold;\n",
       "color: rgb(200, 130, 0);\n",
       "}\n",
       ".suggestion-error { \n",
       "font-weight: bold;\n",
       "color: red;\n",
       "}\n",
       ".suggestion-name {\n",
       "font-weight: bold;\n",
       "}\n",
       "</style><div class=\"suggestion-name\" style=\"clear:both;\">Redundant bracket</div><div class=\"suggestion-row\" style=\"float: left;\"><div class=\"suggestion-warning\">Found:</div><div class=\"highlight-code\" id=\"haskell\">(rmzero :: (String, Int))</div></div><div class=\"suggestion-row\" style=\"float: left;\"><div class=\"suggestion-warning\">Why Not:</div><div class=\"highlight-code\" id=\"haskell\">rmzero :: (String, Int)</div></div>"
      ],
      "text/plain": [
       "Line 1: Redundant bracket\n",
       "Found:\n",
       "(rmzero :: (String, Int))\n",
       "Why not:\n",
       "rmzero :: (String, Int)"
      ]
     },
     "metadata": {},
     "output_type": "display_data"
    },
    {
     "data": {
      "text/plain": [
       "(\"hi\",1)"
      ]
     },
     "metadata": {},
     "output_type": "display_data"
    },
    {
     "data": {
      "text/plain": [
       "(\"hi\",1)"
      ]
     },
     "metadata": {},
     "output_type": "display_data"
    },
    {
     "data": {
      "text/plain": [
       "(\"\",0)"
      ]
     },
     "metadata": {},
     "output_type": "display_data"
    },
    {
     "data": {
      "text/plain": [
       "True"
      ]
     },
     "metadata": {},
     "output_type": "display_data"
    },
    {
     "data": {
      "text/plain": [
       "True"
      ]
     },
     "metadata": {},
     "output_type": "display_data"
    },
    {
     "data": {
      "text/plain": [
       "(\"hi hola\",215)"
      ]
     },
     "metadata": {},
     "output_type": "display_data"
    },
    {
     "data": {
      "text/plain": [
       "(\"hi hola\",215)"
      ]
     },
     "metadata": {},
     "output_type": "display_data"
    },
    {
     "data": {
      "text/plain": [
       "(\"hi hola hola\",1075)"
      ]
     },
     "metadata": {},
     "output_type": "display_data"
    },
    {
     "data": {
      "text/plain": [
       "(\" hola\",210)"
      ]
     },
     "metadata": {},
     "output_type": "display_data"
    },
    {
     "data": {
      "text/plain": [
       "(\" hola\",210)"
      ]
     },
     "metadata": {},
     "output_type": "display_data"
    }
   ],
   "source": [
    "newtype Mem s a = Mem { runMem :: s -> (a,s) }\n",
    "\n",
    "instance Monoid a => Monoid (Mem s a) where\n",
    "    mempty = Mem (\\s -> (mempty,s))\n",
    "    (Mem mem1) `mappend` (Mem mem2) = Mem mem where\n",
    "        mem s = let (a1, s1) = mem1 s\n",
    "                    (a2, s2) = mem2 s1\n",
    "                in (a1 `mappend` a2, s2)\n",
    "\n",
    "f' = Mem $ \\s -> (\"hi\", s + 1)\n",
    "f'' = Mem $ \\s -> (\" hola\", s * 5)\n",
    "\n",
    "rmzero = runMem mempty 0\n",
    "rmleft = runMem (f' `mappend` mempty) 0\n",
    "rmright = runMem (mempty `mappend` f') 0\n",
    "\n",
    "rmleft\n",
    "rmright\n",
    "(rmzero :: (String, Int))\n",
    "rmleft == runMem f' 0\n",
    "rmright == runMem f' 0\n",
    "\n",
    "runMem (f' `mappend` f'') 42\n",
    "runMem (f' `mappend` f'' `mappend` mempty) 42\n",
    "runMem (f' `mappend` f'' `mappend` f'') 42\n",
    "\n",
    "\n",
    "runMem (mempty `mappend` f'') 42\n",
    "runMem (f'' `mappend` mempty) 42\n",
    "\n",
    "-- @TODO quickcheck tests"
   ]
  }
 ],
 "metadata": {
  "anaconda-cloud": {},
  "kernelspec": {
   "display_name": "Haskell",
   "language": "haskell",
   "name": "haskell"
  },
  "language_info": {
   "codemirror_mode": "ihaskell",
   "file_extension": ".hs",
   "name": "haskell",
   "version": "8.0.2"
  }
 },
 "nbformat": 4,
 "nbformat_minor": 1
}
