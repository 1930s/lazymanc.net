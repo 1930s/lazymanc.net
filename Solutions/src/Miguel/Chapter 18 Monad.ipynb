{
 "cells": [
  {
   "cell_type": "markdown",
   "metadata": {},
   "source": [
    "# Chapter: 18 Monad"
   ]
  },
  {
   "cell_type": "code",
   "execution_count": 1,
   "metadata": {},
   "outputs": [
    {
     "data": {
      "text/plain": [
       "[1,2,3]"
      ]
     },
     "metadata": {},
     "output_type": "display_data"
    },
    {
     "data": {
      "text/plain": [
       "Just 1"
      ]
     },
     "metadata": {},
     "output_type": "display_data"
    },
    {
     "data": {
      "text/plain": [
       "Nothing"
      ]
     },
     "metadata": {},
     "output_type": "display_data"
    },
    {
     "data": {
      "text/plain": [
       "Nothing"
      ]
     },
     "metadata": {},
     "output_type": "display_data"
    }
   ],
   "source": [
    "j :: Monad m=> m (m a) -> m a\n",
    "j = (>>= id)\n",
    "\n",
    "j [[1, 2], [], [3]]\n",
    "\n",
    "j (Just (Just 1))\n",
    "\n",
    "j (Just Nothing)\n",
    "\n",
    "j Nothing\n",
    "\n",
    "l1 :: Monad m => (a -> b) -> m a -> m b\n",
    "l1 f = (>>= (return . f))\n",
    "\n",
    "l2 :: Monad m=> (a -> b -> c) -> m a -> m b -> m c\n",
    "l2 f ma mb = do\n",
    "    a <- ma\n",
    "    b <- mb\n",
    "    return $ f a b\n",
    "    \n",
    "a :: Monad m => m a -> m (a -> b) -> m b\n",
    "a ma mf = do\n",
    "    a <- ma\n",
    "    f <- mf\n",
    "    return $ f a\n",
    "    \n",
    "meh :: Monad m => [a] -> (a -> m b) -> m [b]\n",
    "meh []     _ = return []\n",
    "meh (a:as) f = do\n",
    "    b <- f a\n",
    "    bs <- meh as f\n",
    "    return $ b : bs\n",
    "    \n",
    "import Control.Applicative\n",
    "    \n",
    "meh' :: Monad m => [a] -> (a -> m b) -> m [b]\n",
    "meh' []     _ = pure []\n",
    "meh' (a:as) f = (:) <$> (f a) <*> (meh' as f)\n",
    "\n",
    "flipType :: (Monad m) => [m a] -> m [a]\n",
    "flipType mas = meh mas id"
   ]
  }
 ],
 "metadata": {
  "kernelspec": {
   "display_name": "Haskell",
   "language": "haskell",
   "name": "haskell"
  },
  "language_info": {
   "codemirror_mode": "ihaskell",
   "file_extension": ".hs",
   "name": "haskell",
   "version": "8.0.2"
  }
 },
 "nbformat": 4,
 "nbformat_minor": 2
}
